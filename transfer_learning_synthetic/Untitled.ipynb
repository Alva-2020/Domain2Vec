{
 "cells": [
  {
   "cell_type": "code",
   "execution_count": null,
   "metadata": {
    "collapsed": true,
    "deletable": true,
    "editable": true
   },
   "outputs": [],
   "source": [
    "import numpy as np\n",
    "temp = np.load('./examples/synthetic_data.npz')\n",
    "x_all_tasks, y_all_tasks, angle, moment_vectors = temp['x'], temp['y'], temp['angle'], temp['moment']"
   ]
  },
  {
   "cell_type": "code",
   "execution_count": null,
   "metadata": {
    "collapsed": true,
    "deletable": true,
    "editable": true
   },
   "outputs": [],
   "source": [
    "print(x_all_tasks.shape)\n"
   ]
  },
  {
   "cell_type": "code",
   "execution_count": 12,
   "metadata": {
    "collapsed": false,
    "deletable": true,
    "editable": true
   },
   "outputs": [
    {
     "name": "stdout",
     "output_type": "stream",
     "text": [
      "(70000, 784)\n"
     ]
    },
    {
     "data": {
      "text/plain": [
       "array([ 0.,  1.,  2.,  3.,  4.,  5.,  6.,  7.,  8.,  9.])"
      ]
     },
     "execution_count": 12,
     "metadata": {},
     "output_type": "execute_result"
    }
   ],
   "source": [
    "from sklearn.datasets import fetch_mldata\n",
    "import matplotlib.pyplot as plt\n",
    "import numpy as np\n",
    "mnist = fetch_mldata('MNIST original')\n",
    "from scipy.ndimage import rotate\n",
    "from scipy.misc import imread, imshow\n",
    "\n",
    "\n",
    "XMnist = mnist.data\n",
    "YMnist = mnist.target\n",
    "print(XMnist.shape)\n",
    "np.unique(mnist.target)"
   ]
  },
  {
   "cell_type": "code",
   "execution_count": 15,
   "metadata": {
    "collapsed": false,
    "deletable": true,
    "editable": true
   },
   "outputs": [
    {
     "name": "stdout",
     "output_type": "stream",
     "text": [
      "1024 784\n",
      "(102400, 784)\n"
     ]
    }
   ],
   "source": [
    "\n",
    "X = np.copy(XMnist)\n",
    "Y = np.copy(YMnist)\n",
    "norig , d = X.shape\n",
    "tasks = 100\n",
    "examples_per_task = 1024\n",
    "total_size = tasks*examples_per_task\n",
    "print(n,d)\n",
    "angle = 180*np.random.rand(T)\n",
    "x_all_tasks = np.zeros([total_size,d])\n",
    "y_all_tasks = np.zeros((total_size,))\n",
    "j = 0\n",
    "for j in range(0,T):\n",
    "    theta = angle[j]\n",
    "    idx = np.random.choice(norig, examples_per_task)\n",
    "    X_new = np.zeros([examples_per_task,d])\n",
    "    Y_new = np.zeros([examples_per_task,])\n",
    "    for i in range(0,examples_per_task):\n",
    "        img = X[idx[i],:].reshape([int(np.sqrt(d)), int(np.sqrt(d))])\n",
    "        rotate_img = rotate(img, theta,reshape=False)\n",
    "        rotate_img = rotate_img.reshape([d])\n",
    "        X_new[i,:] = rotate_img\n",
    "        Y_new[i] = Y[idx[i]]\n",
    "        \n",
    "    x_all_tasks[j:(j + examples_per_task)] = X_new\n",
    "    y_all_tasks[j:(j + examples_per_task)] = Y_new\n",
    "    j += examples_per_task\n",
    "\n",
    "print(x_all_tasks.shape)\n"
   ]
  },
  {
   "cell_type": "code",
   "execution_count": 10,
   "metadata": {
    "collapsed": false,
    "deletable": true,
    "editable": true
   },
   "outputs": [
    {
     "name": "stdout",
     "output_type": "stream",
     "text": [
      "(70000, 784)\n"
     ]
    },
    {
     "data": {
      "image/png": "[encoded data removed]",
      "text/plain": [
       "<matplotlib.figure.Figure at 0x7f64c93c2e80>"
      ]
     },
     "metadata": {},
     "output_type": "display_data"
    },
    {
     "data": {
      "image/png": "[encoded data removed]",
      "text/plain": [
       "<matplotlib.figure.Figure at 0x7f64c5b27cc0>"
      ]
     },
     "metadata": {},
     "output_type": "display_data"
    }
   ],
   "source": [
    "#print(X2.shape)\n",
    "#print(rotate_img.shape)\n",
    "#imshow(X2)\n",
    "#imshow(rotate_img)\n",
    "\n",
    "import pickle\n",
    "filehandler = open(b\"features.p\",\"wb\")\n",
    "pickle.dump(X_Task,filehandler)\n",
    "\n",
    "\n",
    "X1 =  np.asarray(X)\n",
    "\n",
    "print(X1.shape)\n",
    "X2 = X[33034,:]\n",
    "X2 = X2.reshape([28, 28]);\n",
    "plt.gray()\n",
    "plt.imshow(X2)\n",
    "plt.show()\n",
    "rotate_img = rotate(X2, 100,reshape=False)\n",
    "plt.gray()\n",
    "plt.imshow(rotate_img)\n",
    "plt.show()\n",
    "    "
   ]
  },
  {
   "cell_type": "code",
   "execution_count": 1,
   "metadata": {
    "collapsed": false,
    "deletable": true,
    "editable": true
   },
   "outputs": [
    {
     "data": {
      "text/plain": [
       "array([[ 0.06237517,  0.06325064,  0.06139424,  0.05832941]], dtype=float32)"
      ]
     },
     "execution_count": 1,
     "metadata": {},
     "output_type": "execute_result"
    }
   ],
   "source": [
    "import numpy as np\n",
    "np.load('task_embedding.npy')"
   ]
  },
  {
   "cell_type": "code",
   "execution_count": null,
   "metadata": {
    "collapsed": true
   },
   "outputs": [],
   "source": []
  }
 ],
 "metadata": {
  "kernelspec": {
   "display_name": "Python 3",
   "language": "python",
   "name": "python3"
  },
  "language_info": {
   "codemirror_mode": {
    "name": "ipython",
    "version": 3
   },
   "file_extension": ".py",
   "mimetype": "text/x-python",
   "name": "python",
   "nbconvert_exporter": "python",
   "pygments_lexer": "ipython3",
   "version": "3.5.2"
  }
 },
 "nbformat": 4,
 "nbformat_minor": 2
}
